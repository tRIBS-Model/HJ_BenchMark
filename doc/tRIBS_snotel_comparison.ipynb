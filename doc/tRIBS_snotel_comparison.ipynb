{
 "cells": [
  {
   "cell_type": "markdown",
   "id": "5352c99f-acde-4244-9903-a057ba70df54",
   "metadata": {},
   "source": [
    "# Comparison of reference Happy Jack results to Snotel Data"
   ]
  },
  {
   "cell_type": "code",
   "execution_count": null,
   "id": "e2bb6aef-5215-4796-8ed0-70af22a9f97e",
   "metadata": {},
   "outputs": [],
   "source": [
    "import os\n",
    "import pandas as pd\n",
    "import matplotlib.pyplot as plt\n",
    "import numpy as np\n",
    "import matplotlib as mpl"
   ]
  },
  {
   "cell_type": "markdown",
   "id": "a96881d3-0af4-4577-918e-45a22adc72fb",
   "metadata": {},
   "source": [
    "__Read in tRIBS element/pixel file results__\\\n",
    "Note: you can modify ```path_to_elem``` for updated model simulation results."
   ]
  },
  {
   "cell_type": "code",
   "execution_count": null,
   "id": "d2d57268-42b1-4941-82f4-172c9ac0db5a",
   "metadata": {},
   "outputs": [],
   "source": [
    "# for comparison to reference simulation update the line below to  '../results/reference/hj_ref0.pixel'\n",
    "path_to_elem = '../results/test/hj_test0.pixel'\n",
    "elem = pd.read_csv(path_to_elem, sep=r\"\\s+\", header=0)\n",
    "\n",
    "# convert model hourly time step to dates\n",
    "startdate = \"06/01/2002/00/00\"\n",
    "month = int(startdate[0:2])\n",
    "day = int(startdate[3:5])\n",
    "year = int(startdate[6:10])\n",
    "minute = int(startdate[11:13])\n",
    "second = int(startdate[14:16])\n",
    "date = pd.Timestamp(year=year, month=month, day=day, minute=minute)\n",
    "dt = pd.to_timedelta(elem['Time_hr'], unit='h')\n",
    "elem['date'] = [date + step for step in dt]\n",
    "elem.set_index('date',inplace=True)"
   ]
  },
  {
   "cell_type": "markdown",
   "id": "61a07d6b-2983-4cc0-a9e6-380a7a046579",
   "metadata": {},
   "source": [
    "__Read in the snotel data__\\\n",
    "Snotel data is for the Happy Jack site in Northern Arizona. Data is from:\n",
    ">\n",
    "Sun N, Yan H, Wigmosta MS, Leung LR, Skaggs R, Hou Z. 2019. Regional snow parameters estimation for large-domain hydrological applications in the Western United States. Journal of Geophysical Research: Atmospheres 124 : 5296–5313.\n",
    ">"
   ]
  },
  {
   "cell_type": "code",
   "execution_count": null,
   "id": "64ab04b0-26e7-4f0a-9f3a-de07d8ba555e",
   "metadata": {},
   "outputs": [],
   "source": [
    "# Specify the path to snotel data\n",
    "file_path = '../data/Snotel/bcqc_34.75000_-111.41000.txt'\n",
    "\n",
    "# precip is in inches, T is temperature in F, and SWE is snow water equivalent in inches\n",
    "column_names = ['year', 'month', 'day', 'precip', 'maxT','minT','meanT','swe']\n",
    "snotel = df = pd.read_csv(file_path,  sep='\\s+', header=None, na_values=['nan'], names=column_names)\n",
    "\n",
    "#convert year, month, day to datetime and drop columns\n",
    "snotel['date'] = pd.to_datetime(snotel [['year', 'month', 'day']])\n",
    "snotel  = snotel .drop(['year', 'month', 'day'], axis=1)\n",
    "snotel.set_index('date',inplace=True)\n",
    "\n",
    "#convert swe to cm \n",
    "snotel['swe_cm'] = snotel['swe'] * 2.54\n",
    "snotel['precip'] = snotel['precip']*25.4 #mm"
   ]
  },
  {
   "cell_type": "markdown",
   "id": "d5cce08e-18ed-499e-ac89-55ec41a62a43",
   "metadata": {},
   "source": [
    "__Prep Data For Comparions Of Peak SWE with SNOTEL Site__"
   ]
  },
  {
   "cell_type": "code",
   "execution_count": null,
   "id": "c8ea1a33-47bd-4da3-8e82-33a9fd6c031e",
   "metadata": {},
   "outputs": [],
   "source": [
    "# comparison of magnitude and timing of peak swe\n",
    "\n",
    "# create column for water year\n",
    "snotel['WaterYear'] = snotel.index.year - (snotel.index.month < 10)\n",
    "elem['WaterYear'] = elem.index.year - (elem.index.month < 10)\n",
    "\n",
    "# create a dataframe with index of water year, and columns of for peak swe and date of peak swe\n",
    "peak_swe_snotel = snotel.groupby('WaterYear')['swe_cm'].agg([('PeakSWE', 'max'), ('PeakDate', 'idxmax')])\n",
    "peak_swe_elem = elem.groupby('WaterYear')['SnWE_cm'].agg([('PeakSWE', 'max'), ('PeakDate', 'idxmax')])\n",
    "\n",
    "# overlapping water years\n",
    "start_year = 2002\n",
    "end_year = 2017\n",
    "\n",
    "# subset dataframes based on overlap\n",
    "peak_swe_snotel = peak_swe_snotel[(peak_swe_snotel.index >= start_year) & (peak_swe_snotel.index <= end_year)]\n",
    "peak_swe_elem = peak_swe_elem[(peak_swe_elem.index >= start_year) & (peak_swe_elem.index <= end_year)]\n",
    "\n",
    "# calculate the difference in peak dates\n",
    "peak_date_diff = (peak_swe_snotel['PeakDate'] - peak_swe_elem['PeakDate']).dt.days\n"
   ]
  },
  {
   "cell_type": "markdown",
   "id": "6db53282-bed6-4d62-9f85-66f3e11677df",
   "metadata": {},
   "source": [
    "__Compare time series and peak swe__"
   ]
  },
  {
   "cell_type": "code",
   "execution_count": null,
   "id": "5695bd65-482c-4883-b5dd-6e413e2546b5",
   "metadata": {},
   "outputs": [],
   "source": [
    "cm = 1/2.54  # centimeters in inches\n",
    "plt.rc({'size': 14})\n",
    "mpl.rcParams['pdf.fonttype'] = 42\n",
    "fig,ax = plt.subplots(2,1,figsize=[18*cm,12*cm],gridspec_kw={'height_ratios': [1, 3]},layout='constrained')\n",
    "\n",
    "# time series plot of SWE\n",
    "ax[0].plot(snotel.index,snotel.swe_cm,label = 'SNOTEL',alpha =0.6,c='xkcd:black',linewidth=1.5)\n",
    "ax[0].plot(elem.index,elem.SnWE_cm,label = 'tRIBS',alpha =0.5,c='xkcd:blue',linewidth=1.5)\n",
    "ax[0].set_xlim([min(elem.index),max(elem.index)])\n",
    "ax[0].set_ylabel('SWE (cm)')\n",
    "ax[0].set_xlabel('Date')\n",
    "ax[0].legend(loc='upper left',frameon=False)\n",
    "\n",
    "\n",
    "# plot comparsion\n",
    "ax[1].plot([0,50],[0,50],c='k',linestyle='--')\n",
    "mp = ax[1].scatter(peak_swe_elem['PeakSWE'], peak_swe_snotel['PeakSWE'],s=100, c=peak_date_diff, cmap='viridis')\n",
    "\n",
    "# color bar location \n",
    "cax = ax[1].inset_axes([25, 10., 30, 2.5], transform=ax[1].transData)\n",
    "fig.colorbar(mp, cax=cax, orientation='horizontal',label='Difference in days of peak SWE (SNOTEL - tRIBS)')\n",
    "\n",
    "ax[1].set_xlabel('Peak SWE (cm) : tRIBS')\n",
    "ax[1].set_ylabel('Peak SWE (cm) : SNOTEL')\n",
    "\n",
    "\n",
    "#plt.savefig('HJ_SWE_time_series.pdf',dpi=600)"
   ]
  }
 ],
 "metadata": {
  "kernelspec": {
   "display_name": "Python 3 (ipykernel)",
   "language": "python",
   "name": "python3"
  },
  "language_info": {
   "codemirror_mode": {
    "name": "ipython",
    "version": 3
   },
   "file_extension": ".py",
   "mimetype": "text/x-python",
   "name": "python",
   "nbconvert_exporter": "python",
   "pygments_lexer": "ipython3",
   "version": "3.12.2"
  }
 },
 "nbformat": 4,
 "nbformat_minor": 5
}
