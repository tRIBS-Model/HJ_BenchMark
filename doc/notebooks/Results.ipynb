{
 "cells": [
  {
   "cell_type": "code",
   "execution_count": null,
   "id": "1011976b-d400-46b6-a91c-1f72a6ef9c77",
   "metadata": {},
   "outputs": [],
   "source": [
    "# required import\n",
    "import os\n",
    "import geopandas as gpd\n",
    "import pandas as pd\n",
    "import matplotlib.pyplot as plt\n",
    "import matplotlib.font_manager as fm\n",
    "import matplotlib as mpl\n",
    "import numpy as np\n",
    "from matplotlib_scalebar.scalebar import ScaleBar\n",
    "\n",
    "# helper scripts to read in spatial results using pandas and geopandas\n",
    "import read_voi\n",
    "\n",
    "os.chdir('../..')\n"
   ]
  },
  {
   "cell_type": "markdown",
   "id": "cb743616-7f43-41af-9f99-b8f054d0544b",
   "metadata": {},
   "source": [
    "## Import Results Using Pandas and Geopandas"
   ]
  },
  {
   "cell_type": "code",
   "execution_count": null,
   "id": "e984864f-99f9-4949-b9c6-2447c96e16a9",
   "metadata": {},
   "outputs": [],
   "source": [
    "par_results = 'results/test/parallel/' # change 2nd directory to test or reference\n",
    "ser_results = 'results/test/serial/'"
   ]
  },
  {
   "cell_type": "code",
   "execution_count": null,
   "id": "f88a0b89-deae-467c-a1e2-015352951fa9",
   "metadata": {},
   "outputs": [],
   "source": [
    "# read in integrated spatial model results using pandas\n",
    "int_df_par = read_voi.merge_parallel_spatial_files(f'{par_results}bigsp',35072)\n",
    "int_df_ser = pd.read_csv(f'{ser_results}bigsp.35072_00i')\n",
    "\n",
    "# read in voronoi from serial, they should be identical between but reading in both for demonstrative purposes\n",
    "voi_ser,_ = read_voi.read_voi_file(f'{ser_results}bigsp_voi',join=int_df_ser)\n",
    "voi_par = read_voi.merge_parallel_voi(f'{par_results}bigsp_voi',join=int_df_par['35072'])"
   ]
  },
  {
   "cell_type": "markdown",
   "id": "e3b04c08-821b-45fd-af2f-4b4eecdf705f",
   "metadata": {},
   "source": [
    "## Plot Spatial Maps of Mean Evapotranspiration Rates Averaged Over The Length of Simulation"
   ]
  },
  {
   "cell_type": "markdown",
   "id": "cf01bf53-b2ca-4f62-98cc-af1cbad0617a",
   "metadata": {},
   "source": [
    "### Parallel"
   ]
  },
  {
   "cell_type": "code",
   "execution_count": null,
   "id": "d8f26c70-c5bb-4116-a07f-406eb6543e38",
   "metadata": {},
   "outputs": [],
   "source": [
    "cm = 1/2.54  # centimeters in inches\n",
    "fig,ax = plt.subplots(figsize=[18*cm,18*cm],layout='constrained')\n",
    "low = np.percentile(voi_par['AvET'], 2.5)\n",
    "high = np.percentile(voi_par['AvET'], 97.5)\n",
    "voi_par.plot(ax=ax,column='AvET',cmap='YlOrBr',legend=True,vmin=low,vmax=high,legend_kwds={'label': r'ET in mm/hr','orientation': 'horizontal',\"shrink\":.5})\n",
    "ax.add_artist(ScaleBar(1,location='lower left'))\n",
    "plt.title('Parallel, Big Spring, Arizona, USA: Map of Mean Evapotranspiration Rate')\n",
    "plt.axis('off')"
   ]
  },
  {
   "cell_type": "markdown",
   "id": "6e71d0c1-477d-4def-ab2c-d31c3670c526",
   "metadata": {},
   "source": [
    "### Serial"
   ]
  },
  {
   "cell_type": "code",
   "execution_count": null,
   "id": "4cdba6e1-04d6-4d48-bfc7-9d043bdcb404",
   "metadata": {},
   "outputs": [],
   "source": [
    "fig,ax = plt.subplots(figsize=[18*cm,18*cm],layout='constrained')\n",
    "low = np.percentile(voi_ser['AvET'], 2.5)\n",
    "high = np.percentile(voi_ser['AvET'], 97.5)\n",
    "voi_ser.plot(ax=ax,column='AvET',cmap='YlOrBr',legend=True,vmin=low,vmax=high,legend_kwds={'label': r'ET in mm/hr','orientation': 'horizontal',\"shrink\":.5})\n",
    "ax.add_artist(ScaleBar(1,location='lower left'))\n",
    "plt.title('Serial, Big Spring, Arizona, USA: Map of Mean Evapotranspiration Rate')\n",
    "plt.axis('off')"
   ]
  },
  {
   "cell_type": "markdown",
   "id": "4aa52490-5c34-49b4-9f8f-8e963461f007",
   "metadata": {},
   "source": [
    "## Plot Parallel Partitioning\n",
    "The figure below shows how individual voronoi cells are assigned or partitioned to a given core.  "
   ]
  },
  {
   "cell_type": "code",
   "execution_count": null,
   "id": "82a6ac3a-cbe8-4bdd-8799-c57ca516e2c0",
   "metadata": {},
   "outputs": [],
   "source": [
    "fig,ax = plt.subplots(figsize=[18*cm,18*cm],layout='constrained')\n",
    "voi_par.plot(ax=ax,column='processor',cmap='Set2',legend=True,legend_kwds={'label': 'Core #','orientation': 'horizontal',\"shrink\":.5})\n",
    "ax.add_artist(ScaleBar(1,location='lower left'))\n",
    "plt.title('Big Spring, Arizona, USA: Partition map')\n",
    "plt.axis('off')"
   ]
  }
 ],
 "metadata": {
  "kernelspec": {
   "display_name": "Python 3 (ipykernel)",
   "language": "python",
   "name": "python3"
  },
  "language_info": {
   "codemirror_mode": {
    "name": "ipython",
    "version": 3
   },
   "file_extension": ".py",
   "mimetype": "text/x-python",
   "name": "python",
   "nbconvert_exporter": "python",
   "pygments_lexer": "ipython3",
   "version": "3.12.2"
  }
 },
 "nbformat": 4,
 "nbformat_minor": 5
}
